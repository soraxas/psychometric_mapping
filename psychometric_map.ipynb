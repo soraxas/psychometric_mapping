{
 "cells": [
  {
   "cell_type": "code",
   "execution_count": 1,
   "id": "assured-holmes",
   "metadata": {},
   "outputs": [],
   "source": [
    "import ipywidgets\n",
    "import matplotlib.pyplot as plt\n",
    "from scipy.optimize import curve_fit\n",
    "import numpy as np\n",
    "%matplotlib inline\n",
    "\n",
    "# at fix x-interval\n",
    "data = [\n",
    "    ['very sad', 1],\n",
    "    ['slightly sad', 6],\n",
    "    ['sad', 14],\n",
    "    ['happy', 16],\n",
    "    ['joyful', 20],\n",
    "]"
   ]
  },
  {
   "cell_type": "code",
   "execution_count": 2,
   "id": "presidential-sheet",
   "metadata": {},
   "outputs": [
    {
     "data": {
      "image/png": "[encoded data removed]",
      "text/plain": [
       "<Figure size 576x288 with 1 Axes>"
      ]
     },
     "metadata": {
      "needs_background": "light"
     },
     "output_type": "display_data"
    }
   ],
   "source": [
    "lowest, highest = data[0][1], data[-1][1]\n",
    "x_pos = np.array(list(range(len(data))))\n",
    "y_pos = np.array([d[1] for d in data])\n",
    "def plot_data():\n",
    "    fig, ax = plt.subplots(figsize=(8,4))\n",
    "    plt.scatter(x_pos, y_pos, marker='x')\n",
    "    for _x, _y, (label, _) in zip(x_pos, y_pos, data):\n",
    "        ax.annotate(label, (_x+.1, _y-.4))  # draw label (very sad, slightly sad, ...)\n",
    "    return fig, ax\n",
    "\n",
    "fig, ax = plot_data()"
   ]
  },
  {
   "cell_type": "markdown",
   "id": "recorded-elevation",
   "metadata": {},
   "source": [
    "# Fit curve\n",
    "\n",
    "Using the following curve fitting\n",
    "\n",
    "$a \\cdot x^4 + b \\cdot x^3 + c \\cdot x^2 + d \\cdot x + e$"
   ]
  },
  {
   "cell_type": "code",
   "execution_count": 3,
   "id": "limiting-panama",
   "metadata": {},
   "outputs": [
    {
     "ename": "NameError",
     "evalue": "name 'xdata' is not defined",
     "output_type": "error",
     "traceback": [
      "\u001b[0;31m-----------------------------------------------------------------------\u001b[0m",
      "\u001b[0;31mNameError\u001b[0m                             Traceback (most recent call last)",
      "\u001b[0;32m<ipython-input-3-099faf785ddf>\u001b[0m in \u001b[0;36m<module>\u001b[0;34m\u001b[0m\n\u001b[1;32m      2\u001b[0m     \u001b[0;32mreturn\u001b[0m \u001b[0ma\u001b[0m \u001b[0;34m*\u001b[0m \u001b[0mx\u001b[0m\u001b[0;34m**\u001b[0m\u001b[0;36m4\u001b[0m \u001b[0;34m+\u001b[0m \u001b[0mb\u001b[0m\u001b[0;34m*\u001b[0m\u001b[0mx\u001b[0m\u001b[0;34m**\u001b[0m\u001b[0;36m3\u001b[0m \u001b[0;34m+\u001b[0m \u001b[0mc\u001b[0m\u001b[0;34m*\u001b[0m\u001b[0mx\u001b[0m\u001b[0;34m**\u001b[0m\u001b[0;36m2\u001b[0m \u001b[0;34m+\u001b[0m \u001b[0md\u001b[0m\u001b[0;34m*\u001b[0m\u001b[0mx\u001b[0m\u001b[0;34m**\u001b[0m\u001b[0;36m1\u001b[0m \u001b[0;34m+\u001b[0m \u001b[0me\u001b[0m\u001b[0;34m\u001b[0m\u001b[0m\n\u001b[1;32m      3\u001b[0m \u001b[0;34m\u001b[0m\u001b[0m\n\u001b[0;32m----> 4\u001b[0;31m \u001b[0mpopt\u001b[0m\u001b[0;34m,\u001b[0m \u001b[0mpcov\u001b[0m \u001b[0;34m=\u001b[0m \u001b[0mcurve_fit\u001b[0m\u001b[0;34m(\u001b[0m\u001b[0mfunc\u001b[0m\u001b[0;34m,\u001b[0m \u001b[0mxdata\u001b[0m\u001b[0;34m,\u001b[0m \u001b[0mydata\u001b[0m\u001b[0;34m)\u001b[0m\u001b[0;34m\u001b[0m\u001b[0m\n\u001b[0m\u001b[1;32m      5\u001b[0m \u001b[0;34m\u001b[0m\u001b[0m\n\u001b[1;32m      6\u001b[0m \u001b[0mfig\u001b[0m\u001b[0;34m,\u001b[0m \u001b[0max\u001b[0m \u001b[0;34m=\u001b[0m \u001b[0mplot_data\u001b[0m\u001b[0;34m(\u001b[0m\u001b[0;34m)\u001b[0m\u001b[0;34m\u001b[0m\u001b[0m\n",
      "\u001b[0;31mNameError\u001b[0m: name 'xdata' is not defined"
     ]
    }
   ],
   "source": [
    "def func(x, a, b, c, d, e):\n",
    "    return a * x**4 + b*x**3 + c*x**2 + d*x**1 + e\n",
    "\n",
    "popt, pcov = curve_fit(func, xdata, ydata)\n",
    "\n",
    "fig, ax = plot_data()\n",
    "newx_for_plotting = np.linspace(0, 4)\n",
    "ax.plot(newx_for_plotting, func(newx_for_plotting, *popt), 'c-')\n",
    "plt.show()\n",
    "\n",
    "print('='*60)\n",
    "print(\"The optimised a, b, c, d, e factor are:\")\n",
    "print(list(popt))\n",
    "print('='*60)"
   ]
  },
  {
   "cell_type": "code",
   "execution_count": null,
   "id": "silent-matrix",
   "metadata": {},
   "outputs": [],
   "source": [
    "@ipywidgets.interact(x=ipywidgets.FloatSlider(min=0, max=len(data)-1, step=0.1, value=len(data)//2, readout=False))\n",
    "def draw_figure(x):\n",
    "    calculated_y = func(x, *popt)\n",
    "        \n",
    "    fig, ax = plot_data()  # plot data\n",
    "    ax.plot(newx_for_plotting, func(newx_for_plotting, *popt), 'c-')  # plot curve fit\n",
    "\n",
    "    ax.annotate(\"new psychometric\", (x, .77))  # draw value (1, 6, 13, ...)\n",
    "    ax.vlines(x=x, ymin=0, ymax=calculated_y, colors='red', ls=':', lw=2, label='vline_single - partial height')\n",
    "    \n",
    "    print(\"=\"*50)\n",
    "    print(\"new psychometric is at value {}\".format(calculated_y))\n",
    "    print(\"=\"*50)\n"
   ]
  }
 ],
 "metadata": {
  "kernelspec": {
   "display_name": "Python 3",
   "language": "python",
   "name": "python3"
  },
  "language_info": {
   "codemirror_mode": {
    "name": "ipython",
    "version": 3
   },
   "file_extension": ".py",
   "mimetype": "text/x-python",
   "name": "python",
   "nbconvert_exporter": "python",
   "pygments_lexer": "ipython3",
   "version": "3.7.0"
  }
 },
 "nbformat": 4,
 "nbformat_minor": 5
}
