{
 "cells": [
  {
   "cell_type": "code",
   "execution_count": 1,
   "id": "proprietary-metropolitan",
   "metadata": {},
   "outputs": [],
   "source": [
    "import ipywidgets\n",
    "import matplotlib.pyplot as plt\n",
    "from scipy.optimize import curve_fit\n",
    "import numpy as np\n",
    "%matplotlib inline\n",
    "\n",
    "# at fix x-interval\n",
    "data = [\n",
    "    ['very sad', 1],\n",
    "    ['slightly sad', 6],\n",
    "    ['sad', 14],\n",
    "    ['happy', 16],\n",
    "    ['joyful', 20],\n",
    "]"
   ]
  },
  {
   "cell_type": "code",
   "execution_count": 2,
   "id": "adjusted-quilt",
   "metadata": {},
   "outputs": [
    {
     "data": {
      "image/png": "[encoded data removed]",
      "text/plain": [
       "<Figure size 576x288 with 1 Axes>"
      ]
     },
     "metadata": {
      "needs_background": "light"
     },
     "output_type": "display_data"
    }
   ],
   "source": [
    "lowest, highest = data[0][1], data[-1][1]\n",
    "x_pos = np.array(list(range(len(data))))\n",
    "y_pos = np.array([d[1] for d in data])\n",
    "def plot_data():\n",
    "    fig, ax = plt.subplots(figsize=(8,4))\n",
    "    plt.scatter(x_pos, y_pos, marker='x')\n",
    "    for _x, _y, (label, _) in zip(x_pos, y_pos, data):\n",
    "        ax.annotate(label, (_x+.1, _y-.4))  # draw label (very sad, slightly sad, ...)\n",
    "    return fig, ax\n",
    "\n",
    "fig, ax = plot_data()"
   ]
  },
  {
   "cell_type": "markdown",
   "id": "higher-beatles",
   "metadata": {},
   "source": [
    "# Fit curve\n",
    "\n",
    "Using the following curve fitting\n",
    "\n",
    "$a \\cdot x^4 + b \\cdot x^3 + c \\cdot x^2 + d \\cdot x + e$"
   ]
  },
  {
   "cell_type": "code",
   "execution_count": 3,
   "id": "centered-plaza",
   "metadata": {},
   "outputs": [
    {
     "name": "stderr",
     "output_type": "stream",
     "text": [
      "/home/soraxas/.pyenv/versions/miniconda3-latest/envs/res37/lib/python3.7/site-packages/scipy/optimize/minpack.py:829: OptimizeWarning: Covariance of the parameters could not be estimated\n",
      "  category=OptimizeWarning)\n"
     ]
    },
    {
     "data": {
      "image/png": "[encoded data removed]",
      "text/plain": [
       "<Figure size 576x288 with 1 Axes>"
      ]
     },
     "metadata": {
      "needs_background": "light"
     },
     "output_type": "display_data"
    },
    {
     "name": "stdout",
     "output_type": "stream",
     "text": [
      "============================================================\n",
      "The optimised a, b, c, d, e factor are:\n",
      "[0.7083333333333283, -5.749999999999964, 13.79166666666659, -3.749999999999955, 1.0]\n",
      "============================================================\n"
     ]
    }
   ],
   "source": [
    "def func(x, a, b, c, d, e):\n",
    "    return a * x**4 + b*x**3 + c*x**2 + d*x**1 + e\n",
    "\n",
    "popt, pcov = curve_fit(func, x_pos, y_pos)\n",
    "\n",
    "fig, ax = plot_data()\n",
    "newx_for_plotting = np.linspace(0, 4)\n",
    "ax.plot(newx_for_plotting, func(newx_for_plotting, *popt), 'c-')\n",
    "plt.show()\n",
    "\n",
    "print('='*60)\n",
    "print(\"The optimised a, b, c, d, e factor are:\")\n",
    "print(list(popt))\n",
    "print('='*60)"
   ]
  },
  {
   "cell_type": "code",
   "execution_count": 4,
   "id": "abandoned-skiing",
   "metadata": {},
   "outputs": [
    {
     "data": {
      "application/vnd.jupyter.widget-view+json": {
       "model_id": "badb72c1f8904d999353bc59484bf9b6",
       "version_major": 2,
       "version_minor": 0
      },
      "text/plain": [
       "interactive(children=(FloatSlider(value=2.0, description='Slide me!!!', max=4.0, readout=False), Output()), _d…"
      ]
     },
     "metadata": {},
     "output_type": "display_data"
    }
   ],
   "source": [
    "@ipywidgets.interact(x=ipywidgets.FloatSlider(description=\"Slide me!!!\", min=0, max=len(data)-1, step=0.1, value=len(data)//2, readout=False))\n",
    "def draw_figure(x):\n",
    "    calculated_y = func(x, *popt)\n",
    "        \n",
    "    fig, ax = plot_data()  # plot data\n",
    "    ax.plot(newx_for_plotting, func(newx_for_plotting, *popt), 'c-')  # plot curve fit\n",
    "\n",
    "    ax.annotate(\"new psychometric\", (x, .77))  # draw value (1, 6, 13, ...)\n",
    "    ax.vlines(x=x, ymin=0, ymax=calculated_y, colors='red', ls=':', lw=2, label='vline_single - partial height')\n",
    "    \n",
    "    print(\"=\"*50)\n",
    "    print(\"new psychometric is at value {}\".format(calculated_y))\n",
    "    print(\"=\"*50)\n"
   ]
  },
  {
   "cell_type": "code",
   "execution_count": null,
   "id": "interesting-nirvana",
   "metadata": {},
   "outputs": [],
   "source": []
  }
 ],
 "metadata": {
  "kernelspec": {
   "display_name": "Python 3",
   "language": "python",
   "name": "python3"
  },
  "language_info": {
   "codemirror_mode": {
    "name": "ipython",
    "version": 3
   },
   "file_extension": ".py",
   "mimetype": "text/x-python",
   "name": "python",
   "nbconvert_exporter": "python",
   "pygments_lexer": "ipython3",
   "version": "3.7.0"
  }
 },
 "nbformat": 4,
 "nbformat_minor": 5
}
